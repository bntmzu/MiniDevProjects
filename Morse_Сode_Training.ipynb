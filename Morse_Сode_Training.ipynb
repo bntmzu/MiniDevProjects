{
  "nbformat": 4,
  "nbformat_minor": 0,
  "metadata": {
    "colab": {
      "provenance": []
    },
    "kernelspec": {
      "name": "python3",
      "display_name": "Python 3"
    },
    "language_info": {
      "name": "python"
    }
  },
  "cells": [
    {
      "cell_type": "code",
      "execution_count": null,
      "metadata": {
        "colab": {
          "base_uri": "https://localhost:8080/"
        },
        "id": "HbA_oQl2hEDx",
        "outputId": "6413699c-f5b4-4fed-c55f-17f285fe2ff3"
      },
      "outputs": [
        {
          "output_type": "stream",
          "name": "stdout",
          "text": [
            "Today we'll practice decoding Morse code. Press Enter to begin.\n",
            "\n",
            "Word – ... --- --- -.\n",
            "Your answer: рудз\n",
            "Incorrect, the correct answer was Soon!\n",
            "Word – -- . -.. .. -.-. .. -. .\n",
            "Your answer: where are you\n",
            "Incorrect, the correct answer was Medicine!\n",
            "Word – -. .- -- .\n",
            "Your answer: sos\n",
            "Incorrect, the correct answer was Name!\n",
            "Word – -- . -.. .. -.-. .. -. .\n",
            "Your answer: emergency\n",
            "Incorrect, the correct answer was Medicine!\n",
            "Word – .-.. --- -.-. .- - .. --- -.\n",
            "Your answer: later\n",
            "Incorrect, the correct answer was Location!\n",
            "Total questions: 5\n",
            "Correct answers: 0\n",
            "Incorrect answers: 5\n"
          ]
        }
      ],
      "source": [
        "import random\n",
        "\n",
        "\n",
        "# Morse alphabet dictionary\n",
        "alphabet = {\n",
        "    \"a\": \".-\", \"b\": \"-...\", \"c\": \"-.-.\", \"d\": \"-..\", \"e\": \".\", \"f\": \"..-.\",\n",
        "    \"g\": \"--.\", \"h\": \"....\", \"i\": \"..\", \"j\": \".---\", \"k\": \"-.-\", \"l\": \".-..\",\n",
        "    \"m\": \"--\", \"n\": \"-.\", \"o\": \"---\", \"p\": \".--.\", \"q\": \"--.-\", \"r\": \".-.\",\n",
        "    \"s\": \"...\", \"t\": \"-\", \"u\": \"..-\", \"v\": \"...-\", \"w\": \".--\", \"x\": \"-..-\",\n",
        "    \"y\": \"-.--\", \"z\": \"--..\"\n",
        "}\n",
        "\n",
        "# List of words for the exercise\n",
        "main_list = [\n",
        "    \"help\", \"dangerous\", \"calm\", \"stranger\", \"yes\", \"no\", \"here is not safe\", \"SOS\",\n",
        "    \"Where are you\", \"Meet at 5 PM\", \"On my way\", \"All is well\", \"Emergency\", \"Today\",\n",
        "    \"Tomorrow\", \"Yesterday\", \"Now\", \"Later\", \"Soon\", \"Wait\", \"Water\", \"Food\", \"Shelter\",\n",
        "    \"Medicine\", \"Name\", \"Location\"\n",
        "]\n",
        "\n",
        "\n",
        "def morse_encode(word):\n",
        "    \"\"\"\n",
        "    Encodes an English word into a Morse code sequence.\n",
        "\n",
        "    Parameters:\n",
        "    word (str): The English word to be encoded.\n",
        "\n",
        "    Returns:\n",
        "    str: The encoded Morse code sequence.\n",
        "    \"\"\"\n",
        "    return ' '.join(alphabet[char] for char in word.lower() if char in alphabet)\n",
        "\n",
        "\n",
        "def get_word():\n",
        "    \"\"\"\n",
        "    Gets a random word from the predefined list of words.\n",
        "\n",
        "    Returns:\n",
        "    str: A random word.\n",
        "    \"\"\"\n",
        "    return random.choice(main_list)\n",
        "\n",
        "\n",
        "def print_statistics(answers):\n",
        "    \"\"\"\n",
        "    Prints statistics based on the answers list.\n",
        "\n",
        "    Parameters:\n",
        "    answers (list of bool): The list containing True for correct answers and False for incorrect ones.\n",
        "    \"\"\"\n",
        "    total = len(answers)\n",
        "    correct = sum(answers)\n",
        "    incorrect = total - correct\n",
        "    print(f\"Total questions: {total}\\nCorrect answers: {correct}\\nIncorrect answers: {incorrect}\")\n",
        "\n",
        "\n",
        "if __name__ == \"__main__\":\n",
        "    answers = []  # List to store the correctness of answers\n",
        "    print(\"Today we'll practice decoding Morse code. Press Enter to begin.\")\n",
        "    input()  # Wait for the user to press Enter\n",
        "\n",
        "    for _ in range(5):  # Five questions per game\n",
        "        word = get_word()  # Get a random word\n",
        "        morse_code = morse_encode(word.replace(\" \", \"\"))  # Encode the word into Morse code\n",
        "        print(f\"Word – {morse_code}\")  # Display Morse code to the user\n",
        "        user_input = input(\"Your answer: \")  # User input\n",
        "        if user_input.lower().replace(\" \", \"\") == word.lower().replace(\" \", \"\"):\n",
        "            print(\"Correct!\")\n",
        "            answers.append(True)\n",
        "        else:\n",
        "            print(f\"Incorrect, the correct answer was {word}!\")\n",
        "            answers.append(False)  # Store the result\n",
        "\n",
        "    print_statistics(answers)  # Print statistics\n"
      ]
    }
  ]
}